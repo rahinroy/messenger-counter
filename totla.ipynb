{
 "cells": [
  {
   "cell_type": "code",
   "execution_count": 9,
   "metadata": {
    "scrolled": false
   },
   "outputs": [],
   "source": [
    "%matplotlib inline\n",
    "import json\n",
    "import matplotlib.pyplot as plt\n",
    "import datetime\n",
    "from dateutil import parser\n",
    "import time \n",
    "\n",
    "import os\n",
    "            "
   ]
  },
  {
   "cell_type": "code",
   "execution_count": 71,
   "metadata": {},
   "outputs": [
    {
     "name": "stdout",
     "output_type": "stream",
     "text": [
      "ITISSUMMER: 112324\n",
      "NWA: 53861\n",
      "WuBan2k15: 38959\n",
      "BackinOklahomaGucciGang: 10497\n",
      "NiharAnnam: 9219\n",
      "jaspercd1718: 8437\n",
      "JiBan2014: 7932\n",
      "Jsperstudybuddies: 7921\n",
      "FaizaRahman: 7464\n",
      "AnthonyJiang: 6289\n",
      "2idiotsbroth: 5569\n",
      "angstymiddleclassteens: 4814\n",
      "HGAPpeeps: 4135\n",
      "LunchPeeps: 3272\n",
      "SophomoreCongress: 3232\n",
      "ChemCUTIES: 3167\n",
      "WestCampInstructors: 2346\n",
      "KevinMeng: 2205\n",
      "FreshmenBlockLunchReunion: 1673\n",
      "JHSMUNOfficers: 1563\n",
      "MihirGupta: 1141\n",
      "MUNOfficers1718: 1093\n",
      "IllegalPresidentialPotatoFryerIPPF: 1076\n",
      "DanielCao: 1056\n",
      "YayiDing: 1054\n",
      "DerexWangmang: 1051\n",
      "ThePrimaries: 954\n"
     ]
    }
   ],
   "source": [
    "numFiles = len([i for i in os.listdir(\".\") if os.path.isdir(i)])\n",
    "names = [i for i in os.listdir(\".\") if os.path.isdir(i)]\n",
    "namesCleaned = []\n",
    "for x in range(len(names)):\n",
    "    if (names[x][0] != \".\"):\n",
    "        namesCleaned.append([names[x]])\n",
    "numFiles -= 3\n",
    "p=0\n",
    "numMessages = []\n",
    "messageCounter = []\n",
    "for x in range (len(namesCleaned)-1):\n",
    "    count = 0\n",
    "    nameString = str(namesCleaned[x])\n",
    "    nameString = nameString[2: len(nameString) - 2]\n",
    "    dirList = [i for i in os.listdir(nameString)]\n",
    "    jsonNames = []\n",
    "    for x in range(len(dirList)):\n",
    "        if (dirList[x][-5:] == \".json\" and dirList[x][0] != \".\"):\n",
    "            jsonNames.append(dirList[x])\n",
    "    for t in range(len(jsonNames)):\n",
    "        with open(nameString + \"\\\\\" + str(jsonNames[t]), encoding=\"utf8\") as jFile:\n",
    "            data = json.loads(jFile.read())\n",
    "            for x in range(len(data[\"participants\"])):\n",
    "                if (len(data[\"participants\"]) == 2):\n",
    "                    global yourName\n",
    "                    yourName = str(data[\"participants\"][1])\n",
    "                    yourName = yourName[10:]\n",
    "                    yourName = yourName[:-2]\n",
    "                else:\n",
    "                    yourName = data[\"participants\"][0]\n",
    "            count += len(data[\"messages\"])\n",
    "    numMessages.append(count)\n",
    "numMessagesOg = numMessages\n",
    "numMessages = sorted(numMessages, reverse=True)\n",
    "for x in range (len(numMessages)-1):\n",
    "    if (numMessages[x] > 900):\n",
    "        namer = str(namesCleaned[numMessagesOg.index(numMessages[x])])\n",
    "        namer = namer[2: len(namer) - 2]\n",
    "        print (namer + \": \" + str(numMessages[x]))\n",
    "#for x in range (len(numFiles))"
   ]
  },
  {
   "cell_type": "code",
   "execution_count": 19,
   "metadata": {
    "scrolled": false
   },
   "outputs": [
    {
     "name": "stdout",
     "output_type": "stream",
     "text": [
      "enter person's full name: Renee Li\n",
      "number of messages from Renee Li: 50\n",
      "number of messages of you: 54\n",
      "total number of messages: 104\n",
      "Your average time to reply : 15.35 seconds\n",
      "Renee Li avg reply time : 25.53 seconds\n"
     ]
    }
   ],
   "source": []
  },
  {
   "cell_type": "code",
   "execution_count": null,
   "metadata": {},
   "outputs": [],
   "source": []
  }
 ],
 "metadata": {
  "kernelspec": {
   "display_name": "Python 3",
   "language": "python",
   "name": "python3"
  },
  "language_info": {
   "codemirror_mode": {
    "name": "ipython",
    "version": 3
   },
   "file_extension": ".py",
   "mimetype": "text/x-python",
   "name": "python",
   "nbconvert_exporter": "python",
   "pygments_lexer": "ipython3",
   "version": "3.7.4"
  }
 },
 "nbformat": 4,
 "nbformat_minor": 2
}
